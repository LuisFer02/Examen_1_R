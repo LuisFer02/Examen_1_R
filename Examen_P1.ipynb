{
 "cells": [
  {
   "cell_type": "markdown",
   "id": "dd34024d-3a72-4fc0-b914-c091652ac291",
   "metadata": {},
   "source": [
    "# Estudio de la Cinemática y Dinámica de un Robot SCARA con Tres Grados de Libertad"
   ]
  },
  {
   "cell_type": "markdown",
   "id": "b080143d-4411-4433-bf7b-64dc675ed970",
   "metadata": {},
   "source": [
    "## Resumen "
   ]
  },
  {
   "cell_type": "markdown",
   "id": "7bc9ef8b-5e80-4f93-9cbf-257312a88f76",
   "metadata": {},
   "source": [
    "Este trabajo analiza la configuración de un robot SCARA compuesto por tres eslabones, uno de los cuales está fijado al sistema inercial, y tres juntas rotacionales. Con el fin de determinar la relación entre la posición, la orientación y el desplazamiento de cada articulación, se desarrollará el modelo cinemático de la pose, las velocidades y la aceleración, desde el origen hasta el punto encargado de ejecutar las tareas que se asignan al robot. Posteriormente, se planteará el modelo dinámico de esta configuración utilizando el enfoque de Euler-Lagrange, tanto en su forma directa como inversa. Este análisis busca comprender cómo las juntas y la interacción que tienen entre los eslabones influyen en el comportamiento del sistema. El desarrollo integrara los modelos cinemáticos y dinámicos, directos e inversos."
   ]
  },
  {
   "cell_type": "markdown",
   "id": "73ed93e8-7194-4dde-8b41-eefebda9cc9e",
   "metadata": {},
   "source": [
    "## Introducción"
   ]
  },
  {
   "cell_type": "markdown",
   "id": "a5ff820a-ee05-4fa0-b981-a03a3ee4a98d",
   "metadata": {},
   "source": [
    "Con el objetivo de aumentar la producción, la precisión y la eficiencia de los procesos, se ha impulsado la creación de sistemas manipuladores programables y automatizables, conocidos como robots. Estas máquinas fueron implementadas inicialmente en la industria, y con el tiempo han sido adoptadas en otros campos de aplicación, en los cuales ya cuentan con cierta capacidad para razonar y tomar decisiones a fin de cumplir sus objetivos [1].\n",
    "En la parte industrial, los robots destacan por su capacidad para ejecutar ciclos prolongados de tareas sin comprometer su precisión. Desde una perspectiva moderna, la producción industrial exige cada vez mayor flexibilidad en los procesos de fabricación, lo que demanda sistemas robóticos capaces de adaptarse tanto a condiciones actuales como futuras [1].\n",
    "Entre los aspectos críticos en el diseño de robots se encuentran el tiempo de ciclo y la capacidad de carga útil. Esta última se refiere a la cantidad de masa que puede soportar el punto donde se realiza el trabajo, y está influenciada por el peso de cada eslabón, así como por el de la herramienta utilizada para ejecutar la tarea asignada. Este factor es fundamental, ya que involucra directamente la dinámica del robot. Asimismo, debe considerarse el tiempo requerido para completar un ciclo completo de la tarea programada.\n",
    "En el ámbito de las soluciones robóticas industriales, el robot SCARA (Selective Compliant Assembly Robot Arm), de arquitectura en serie, es ampliamente utilizado en operaciones de ensamblaje y tareas de pick and place. Este tipo de robot suele incorporar dos juntas rotacionales para el posicionamiento rápido en el plano horizontal, y una junta lineal para el desplazamiento en el eje vertical [2], [3].\n"
   ]
  },
  {
   "cell_type": "markdown",
   "id": "9c9ffb3c-caba-415d-b36f-d42c81d59fea",
   "metadata": {},
   "source": [
    "## Modelado cinemático de la postura"
   ]
  },
  {
   "cell_type": "markdown",
   "id": "c1d7e791-62ad-4fac-8aef-7e8f8668db16",
   "metadata": {},
   "source": [
    "## Modelado cinemático de las velocidades"
   ]
  },
  {
   "cell_type": "code",
   "execution_count": null,
   "id": "5cb2330b-3939-481f-8ca7-6ba37142b7cf",
   "metadata": {},
   "outputs": [],
   "source": [
    "## "
   ]
  },
  {
   "cell_type": "markdown",
   "id": "9b2f7fac-8c2a-4b2f-b9d8-f6da4d418571",
   "metadata": {},
   "source": [
    "## Modelado cinemático de las aceleraciones"
   ]
  },
  {
   "cell_type": "markdown",
   "id": "b50505f8-e489-4234-97a2-ebc3258243ed",
   "metadata": {},
   "source": [
    "## Modelado dinámico"
   ]
  },
  {
   "cell_type": "markdown",
   "id": "4a361031-eacd-4f4c-9daa-08d2f6ebc342",
   "metadata": {},
   "source": [
    "## Conclusión"
   ]
  },
  {
   "cell_type": "markdown",
   "id": "4059abd1-0e29-4de5-9194-bc0fff259351",
   "metadata": {},
   "source": [
    "## Referencias "
   ]
  },
  {
   "cell_type": "markdown",
   "id": "70da52be-a4da-4a11-bd55-a5a1d5655a9f",
   "metadata": {},
   "source": [
    "[1]\tG. B. Muniyandi, “Citation: Muniyandi GB (2024) In-Depth Analysis of Kinematic, Dynamic, and Control Aspects of a 4-Axis SCARA Robot Manipulator,” Int J Robot Eng, vol. 7, p. 37, 2024, doi: 10.35840/2631-5106/4137.\n",
    "[2]\tC. Feng, G. Gao, and Y. Cao, “Kinematic modeling and verification for a SCARA robot,” 2016.\n",
    "[3]\tB. Fernini, “Dynamic Behavior of a SCARA Robot by using N-E Method for a Straight Line and Simulation of Motion by using Solidworks and Verification by Matlab/Simulink,” International Journal of Robotics and Automation (IJRA), vol. 3, no. 4, pp. 221–233, 2014.\n"
   ]
  }
 ],
 "metadata": {
  "kernelspec": {
   "display_name": "Python 3 (ipykernel)",
   "language": "python",
   "name": "python3"
  },
  "language_info": {
   "codemirror_mode": {
    "name": "ipython",
    "version": 3
   },
   "file_extension": ".py",
   "mimetype": "text/x-python",
   "name": "python",
   "nbconvert_exporter": "python",
   "pygments_lexer": "ipython3",
   "version": "3.10.12"
  }
 },
 "nbformat": 4,
 "nbformat_minor": 5
}
