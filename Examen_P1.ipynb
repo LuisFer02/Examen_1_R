{
 "cells": [
  {
   "cell_type": "markdown",
   "id": "dd34024d-3a72-4fc0-b914-c091652ac291",
   "metadata": {},
   "source": [
    "# Primer parcial "
   ]
  },
  {
   "cell_type": "markdown",
   "id": "73ed93e8-7194-4dde-8b41-eefebda9cc9e",
   "metadata": {},
   "source": [
    "## Introducción"
   ]
  },
  {
   "cell_type": "markdown",
   "id": "a5ff820a-ee05-4fa0-b981-a03a3ee4a98d",
   "metadata": {},
   "source": []
  },
  {
   "cell_type": "markdown",
   "id": "9c9ffb3c-caba-415d-b36f-d42c81d59fea",
   "metadata": {},
   "source": [
    "## Modelado cinemático de la postura"
   ]
  },
  {
   "cell_type": "markdown",
   "id": "c1d7e791-62ad-4fac-8aef-7e8f8668db16",
   "metadata": {},
   "source": [
    "## Modelado cinemático de las velocidades"
   ]
  },
  {
   "cell_type": "code",
   "execution_count": null,
   "id": "5cb2330b-3939-481f-8ca7-6ba37142b7cf",
   "metadata": {},
   "outputs": [],
   "source": [
    "## "
   ]
  },
  {
   "cell_type": "markdown",
   "id": "9b2f7fac-8c2a-4b2f-b9d8-f6da4d418571",
   "metadata": {},
   "source": [
    "## Modelado cinemático de las aceleraciones"
   ]
  },
  {
   "cell_type": "markdown",
   "id": "b50505f8-e489-4234-97a2-ebc3258243ed",
   "metadata": {},
   "source": [
    "## Modelado dinámico"
   ]
  },
  {
   "cell_type": "markdown",
   "id": "4a361031-eacd-4f4c-9daa-08d2f6ebc342",
   "metadata": {},
   "source": [
    "## Conclusión"
   ]
  },
  {
   "cell_type": "code",
   "execution_count": null,
   "id": "9eca5700-936b-4ad8-90d5-6e9cf12c4135",
   "metadata": {},
   "outputs": [],
   "source": []
  }
 ],
 "metadata": {
  "kernelspec": {
   "display_name": "Python 3 (ipykernel)",
   "language": "python",
   "name": "python3"
  },
  "language_info": {
   "codemirror_mode": {
    "name": "ipython",
    "version": 3
   },
   "file_extension": ".py",
   "mimetype": "text/x-python",
   "name": "python",
   "nbconvert_exporter": "python",
   "pygments_lexer": "ipython3",
   "version": "3.10.12"
  }
 },
 "nbformat": 4,
 "nbformat_minor": 5
}
